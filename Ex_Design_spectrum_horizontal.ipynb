{
 "cells": [
  {
   "cell_type": "markdown",
   "metadata": {},
   "source": [
    "## INM 439 - PYTHON APPLICATIONS IN STRUCTURAL ENGINEERING\n",
    "\n",
    "### Example 1: Horizontal Acceleration Design Spectrum according to TSCB-2019\n",
    "![](./Figures/Ex_Design_SpectrumHor2.png)\n",
    "![](./Figures/Ex_Design_SpectrumHor1.png)"
   ]
  },
  {
   "cell_type": "markdown",
   "metadata": {},
   "source": [
    "**Calculation of Sae for a single period value, T:**"
   ]
  },
  {
   "cell_type": "code",
   "execution_count": null,
   "metadata": {},
   "outputs": [],
   "source": [
    "# TBDY 2019'a göre \"Yatay Elastik Tasarım Spektrumu\" hesabı\n",
    "# INPUTS\n",
    "shr =\"Sakarya\"    # Şehir\n",
    "zmn =\"ZE\"         # Zemin Sınıfı\n",
    "Ss = 1.518 \n",
    "Fs = 0.800\n",
    "S1 = 0.417  \n",
    "F1 = 2.366\n",
    "Ti = float(input(\"Enter building period:\"))\n",
    "\n",
    "# CALCULATIONS\n",
    "Sds = Ss*Fs\n",
    "Sd1 = S1*F1\n",
    "Ta = 0.2*Sd1/Sds \n",
    "Tb = Sd1/Sds\n",
    "Tl = 6.0\n",
    "\n",
    "# Sae ; [g]; elastik tasarım spektral ivmeleri\n",
    "\n",
    "if Ti <= Ta:\n",
    "    Sae = (0.4 + 0.6*Ti/Ta)*Sds\n",
    "elif Ti>Ta and Ti <= Tb:\n",
    "    Sae = Sds\n",
    "elif Ti>Tb and Ti <= Tl:\n",
    "    Sae = Sd1/Ti\n",
    "else: Sae = Sd1*Tl/Ti**2\n",
    "\n",
    "print(\"Sae=\", Sae, \"g\")"
   ]
  },
  {
   "cell_type": "markdown",
   "metadata": {},
   "source": [
    "**Calculation of Acceleration Design Spectrum:**"
   ]
  },
  {
   "cell_type": "code",
   "execution_count": null,
   "metadata": {},
   "outputs": [],
   "source": [
    "# INPUTS\n",
    "shr =\"Sakarya\"    # Şehir\n",
    "zmn =\"ZE\"         # Zemin Sınıfı\n",
    "Ss = 1.518 \n",
    "Fs = 0.800\n",
    "S1 = 0.417  \n",
    "F1 = 2.366\n",
    "\n",
    "# CALCULATIONS\n",
    "Sds = Ss*Fs\n",
    "Sd1 = S1*F1\n",
    "Ta = 0.2*Sd1/Sds \n",
    "Tb = Sd1/Sds\n",
    "Tl = 6.0\n",
    "\n",
    "import numpy as np\n",
    "T = np.arange(0.01, 10, 0.1)\n",
    "# print(\"T=\", T)\n",
    "\n",
    "Sae = []        # [g]; elastik tasarım spektral ivmeleri\n",
    "for Ti in T:\n",
    "    if Ti <= Ta:\n",
    "      Saei = (0.4 + 0.6*Ti/Ta)*Sds\n",
    "    elif Ti>Ta and Ti <= Tb:\n",
    "      Saei = Sds\n",
    "    elif Ti>Tb and Ti <= Tl:\n",
    "      Saei = Sd1/Ti\n",
    "    else: Saei = Sd1*Tl/Ti**2\n",
    "    Sae.append(Saei)\n",
    "# print(\"Sae=\", Sae)    \n",
    "\n",
    "# Plot spectrum\n",
    "import matplotlib.pyplot as plt\n",
    "plt.plot(T,Sae)      # Basit tek çizim\n",
    "\n",
    "type(Sae)"
   ]
  },
  {
   "cell_type": "markdown",
   "metadata": {},
   "source": [
    "---\n",
    "### Example 2: Horizontal Displacement Design Spectrum according to TSCB-2019\n",
    "\n",
    "![](./Figures/Ex_Design_SpectrumHor3.png)"
   ]
  },
  {
   "cell_type": "code",
   "execution_count": null,
   "metadata": {},
   "outputs": [],
   "source": [
    "g = 9.81\n",
    "\n",
    "Sde = []\n",
    "for i in range(len(T)):\n",
    "    Sdei = T[i]**2/(4*3.14**2)*g*Sae[i]\n",
    "    Sde.append(Sdei)\n",
    "# print(Sde)\n",
    "\n",
    "# Plot spectrum\n",
    "import matplotlib.pyplot as plt\n",
    "plt.plot(T,Sde)      # Basit tek çizim"
   ]
  },
  {
   "cell_type": "markdown",
   "metadata": {},
   "source": [
    "**Another method without for loop:**"
   ]
  },
  {
   "cell_type": "code",
   "execution_count": null,
   "metadata": {},
   "outputs": [],
   "source": [
    "g = 9.81\n",
    "Sde = T**2/(4*3.14**2)*g*Sae\n",
    "# print(Sde)\n",
    "\n",
    "# Plot spectrum\n",
    "import matplotlib.pyplot as plt\n",
    "plt.plot(T,Sde)      # Basit tek çizim"
   ]
  }
 ],
 "metadata": {
  "kernelspec": {
   "display_name": "Python 3",
   "language": "python",
   "name": "python3"
  },
  "language_info": {
   "codemirror_mode": {
    "name": "ipython",
    "version": 3
   },
   "file_extension": ".py",
   "mimetype": "text/x-python",
   "name": "python",
   "nbconvert_exporter": "python",
   "pygments_lexer": "ipython3",
   "version": "3.7.6"
  }
 },
 "nbformat": 4,
 "nbformat_minor": 4
}
