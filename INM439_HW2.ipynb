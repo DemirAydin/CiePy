{
 "cells": [
  {
   "cell_type": "markdown",
   "metadata": {},
   "source": [
    "## INM 439 - PYTHON APPLICATIONS IN STRUCTURAL ENGINEERING"
   ]
  },
  {
   "cell_type": "markdown",
   "metadata": {},
   "source": [
    "### Homework #2\n",
    "\n",
    "Write a program;\n",
    "- asking users to input a profile name from following the steel profile table. \n",
    "- Writing properties of the relevant profile name on the screen.\n",
    "\n",
    "![](./Figures/IPN_Profil.png)\n"
   ]
  },
  {
   "cell_type": "code",
   "execution_count": null,
   "metadata": {},
   "outputs": [],
   "source": [
    "profiles = {\n",
    "    \"IPN 100\":{\"h\":100, \"b\":50, \"tw\":4.5, \"tf\":6.8},\n",
    "    \"IPN 120\":{\"h\":120, \"b\":58, \"tw\":5.1, \"tf\":7.7},\n",
    "    \"IPN 140\":{\"h\":140, \"b\":66, \"tw\":5.7, \"tf\":8.6},\n",
    "    \"IPN 160\":{\"h\":160, \"b\":74, \"tw\":6.3, \"tf\":9.5},\n",
    "    \"IPN 180\":{\"h\":180, \"b\":82, \"tw\":6.9, \"tf\":10.4},\n",
    "    \"IPN 200\":{\"h\":200, \"b\":90, \"tw\":7.5, \"tf\":11.3},\n",
    "    \"IPN 220\":{\"h\":220, \"b\":98, \"tw\":8.1, \"tf\":12.2},\n",
    "    \"IPN 240\":{\"h\":240, \"b\":106, \"tw\":8.7, \"tf\":13.1},\n",
    "    \"IPN 260\":{\"h\":260, \"b\":113, \"tw\":9.4, \"tf\":14.1},\n",
    "    \"IPN 280\":{\"h\":280, \"b\":119, \"tw\":10.1, \"tf\":15.2},\n",
    "    \"IPN 300\":{\"h\":300, \"b\":125, \"tw\":10.8, \"tf\":16.2},\n",
    "    \"IPN 320\":{\"h\":320, \"b\":131, \"tw\":11.5, \"tf\":17.3},\n",
    "    \"IPN 340\":{\"h\":340, \"b\":137, \"tw\":12.2, \"tf\":18.3},\n",
    "    \"IPN 360\":{\"h\":360, \"b\":143, \"tw\":13, \"tf\":19.5},\n",
    "    \"IPN 380\":{\"h\":380, \"b\":149, \"tw\":13.7, \"tf\":20.5},\n",
    "    \"IPN 400\":{\"h\":400, \"b\":155, \"tw\":14.4, \"tf\":21.6},\n",
    "    \"IPN 450\":{\"h\":450, \"b\":170, \"tw\":16.2, \"tf\":24.3},\n",
    "    \"IPN 500\":{\"h\":500, \"b\":185, \"tw\":18, \"tf\":27},\n",
    "    \"IPN 550\":{\"h\":550, \"b\":200, \"tw\":19, \"tf\":30},\n",
    "    \"IPN 600\":{\"h\":600, \"b\":215, \"tw\":21.6, \"tf\":32.4}\n",
    "}\n",
    "print(profiles)"
   ]
  },
  {
   "cell_type": "code",
   "execution_count": null,
   "metadata": {},
   "outputs": [],
   "source": [
    "ProName = input(\"Write a profile name from the steel IPN profile table:\")\n",
    "h = profiles[ProName][\"h\"]\n",
    "b = profiles[ProName][\"b\"]\n",
    "tw = profiles[ProName][\"tw\"]\n",
    "tf = profiles[ProName][\"tf\"]\n",
    "\n",
    "print(\"Profile Name: {}, h: {} mm, b: {} mm, tw: {} mm, tf: {} mm\".format(ProName, h,b,tw,tf))\n",
    "# or\n",
    "print(f\"Profile Name: {ProName}, h: {h} mm, b: {b} mm, tw: {tw} mm, tf: {tf} mm\")"
   ]
  },
  {
   "cell_type": "markdown",
   "metadata": {},
   "source": [
    "---"
   ]
  }
 ],
 "metadata": {
  "kernelspec": {
   "display_name": "Python 3",
   "language": "python",
   "name": "python3"
  },
  "language_info": {
   "codemirror_mode": {
    "name": "ipython",
    "version": 3
   },
   "file_extension": ".py",
   "mimetype": "text/x-python",
   "name": "python",
   "nbconvert_exporter": "python",
   "pygments_lexer": "ipython3",
   "version": "3.7.6"
  }
 },
 "nbformat": 4,
 "nbformat_minor": 4
}
