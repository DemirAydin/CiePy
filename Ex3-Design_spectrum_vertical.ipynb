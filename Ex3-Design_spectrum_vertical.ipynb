{
 "cells": [
  {
   "cell_type": "markdown",
   "metadata": {},
   "source": [
    "![](./Figures/Ex_Design_SpectrumVert2.png)\n",
    "![](./Figures/Ex_Design_SpectrumVert1.png)"
   ]
  },
  {
   "cell_type": "code",
   "execution_count": null,
   "metadata": {},
   "outputs": [],
   "source": [
    "# TBDY 2019'a göre \"düşey Elastik Tasarım Spektrum\" değeri hesabı\n",
    "# INPUTS\n",
    "shr =\"Sakarya\"    # Şehir\n",
    "zmn =\"ZE\"         # Zemin Sınıfı\n",
    "Ss = 1.518 \n",
    "Fs = 0.800\n",
    "S1 = 0.417  \n",
    "F1 = 2.366\n",
    "Ti = float(input(\"Enter building period:\"))\n",
    "\n",
    "# CALCULATIONS\n",
    "Sds = Ss*Fs\n",
    "Sd1 = S1*F1\n",
    "Ta = 0.2*Sd1/Sds \n",
    "Tb = Sd1/Sds\n",
    "Tl = 6.0\n",
    "\n",
    "Tad = Ta/3\n",
    "Tbd = Tb/3\n",
    "Tld = Tl/3\n",
    "\n",
    "\n",
    "# Sde ; [g]; elastik tasarım spektral ivmeleri\n",
    "\n",
    "if Ti <= Tad:\n",
    "    Saed = (0.32 + 0.48*Ti/Tad)*Sds\n",
    "elif Ti>Tad and Ti <= Tbd:\n",
    "    Saed = 0.8*Sds\n",
    "else: Saed = 0.8*Sds*Tbd/Ti\n",
    "\n",
    "print(\"Saed=\", Saed, \"g\")"
   ]
  },
  {
   "cell_type": "code",
   "execution_count": null,
   "metadata": {},
   "outputs": [],
   "source": [
    "# TBDY 2019'a göre \"düşey Elastik Tasarım Spektrumu\" hesabı\n",
    "# INPUTS\n",
    "shr =\"Sakarya\"    # Şehir\n",
    "zmn =\"ZE\"         # Zemin Sınıfı\n",
    "Ss = 1.518 \n",
    "Fs = 0.800\n",
    "S1 = 0.417  \n",
    "F1 = 2.366\n",
    "\n",
    "# CALCULATIONS\n",
    "Sds = Ss*Fs\n",
    "Sd1 = S1*F1\n",
    "Ta = 0.2*Sd1/Sds \n",
    "Tb = Sd1/Sds\n",
    "Tl = 6.0\n",
    "\n",
    "Tad = Ta/3\n",
    "Tbd = Tb/3\n",
    "Tld = Tl/3\n",
    "\n",
    "import numpy as np\n",
    "T = np.arange(0.01, 6, 0.1)\n",
    "# print(\"T=\", T)\n",
    "\n",
    "Saed = []        # [g]; elastik tasarım spektral ivmeleri\n",
    "for Ti in T:\n",
    "    if Ti <= Tad:\n",
    "        Saedi = (0.32 + 0.48*Ti/Tad)*Sds\n",
    "    elif Ti>Tad and Ti <= Tbd:\n",
    "        Saedi = 0.8*Sds\n",
    "    else: Saedi = 0.8*Sds*Tbd/Ti\n",
    "    Saed.append(Saedi)\n",
    "print(\"Saed=\", Saed)    \n",
    "\n",
    "# Plot spectrum\n",
    "import matplotlib.pyplot as plt\n",
    "plt.plot(T,Saed)      # Basit tek çizim"
   ]
  },
  {
   "cell_type": "code",
   "execution_count": null,
   "metadata": {},
   "outputs": [],
   "source": []
  }
 ],
 "metadata": {
  "kernelspec": {
   "display_name": "Python 3",
   "language": "python",
   "name": "python3"
  },
  "language_info": {
   "codemirror_mode": {
    "name": "ipython",
    "version": 3
   },
   "file_extension": ".py",
   "mimetype": "text/x-python",
   "name": "python",
   "nbconvert_exporter": "python",
   "pygments_lexer": "ipython3",
   "version": "3.8.3"
  }
 },
 "nbformat": 4,
 "nbformat_minor": 4
}
